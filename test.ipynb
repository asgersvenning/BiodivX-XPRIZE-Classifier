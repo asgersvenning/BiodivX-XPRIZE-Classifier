{
 "cells": [
  {
   "cell_type": "code",
   "execution_count": 1,
   "metadata": {},
   "outputs": [],
   "source": [
    "import torch\n",
    "import numpy as np\n",
    "from PIL import Image\n",
    "from classify import HierarchicalClassifier\n",
    "\n",
    "weights = \"efficientnet_v2_s___hierarchical.state\"\n",
    "device, dtype = torch.device(\"cuda:0\"), torch.bfloat16\n",
    "\n",
    "classifier = HierarchicalClassifier(weights=weights, device=device, dtype=dtype)"
   ]
  },
  {
   "cell_type": "code",
   "execution_count": 2,
   "metadata": {},
   "outputs": [],
   "source": [
    "import json, requests\n",
    "from io import BytesIO\n",
    "\n",
    "from typing import Union, List, Dict, Any\n",
    "\n",
    "# Request structure:\n",
    "# https://api.gbif.org/v1/species/1470/name\n",
    "\n",
    "def get_field(obj : Dict[str, Any], field : Union[str, List[str]], key : Union[str, int]) -> Union[str, List[str]]:\n",
    "    if isinstance(field, list):\n",
    "        return [get_field(obj, f, key) for f in field]\n",
    "    if field == \"vernacularName\":\n",
    "        uri = f\"https://api.gbif.org/v1/species/{key}/vernacularNames\"\n",
    "        response = requests.get(uri)\n",
    "        js = json.load(BytesIO(response.content))\n",
    "        possible_english_names = [res for res in js[\"results\"] if res[\"language\"] in [\"\", \"eng\", \"en\", \"EN\", \"english\", \"ENGLISH\", \"us\", \"US\"]]\n",
    "        if possible_english_names:\n",
    "            return possible_english_names[0][\"vernacularName\"]\n",
    "        else:\n",
    "            return \"???\"\n",
    "    return obj[field]\n",
    "\n",
    "def translateKey(key : Union[Union[int, str], List[Union[int, str]]], field : Union[str, List[str]]=\"scientificName\") -> Union[str, List[str]]:\n",
    "    if isinstance(key, list):\n",
    "        return [translateKey(k) for k in key]\n",
    "    uri = f\"https://api.gbif.org/v1/species/{key}/name\"\n",
    "    response = requests.get(uri)\n",
    "    js = json.load(BytesIO(response.content))\n",
    "\n",
    "    return get_field(js, field, key)"
   ]
  },
  {
   "cell_type": "code",
   "execution_count": 5,
   "metadata": {},
   "outputs": [],
   "source": [
    "idx_to_name = [{k : translateKey(v) for k, v in i2c.items()} for i2c in classifier.model.class_handles[\"idx_to_class\"]]"
   ]
  },
  {
   "cell_type": "code",
   "execution_count": 7,
   "metadata": {},
   "outputs": [],
   "source": [
    "class_to_name = [{i2c[k] : i2n[k] for k in i2c} for i2c, i2n in zip(classifier.model.class_handles[\"idx_to_class\"], idx_to_name)]"
   ]
  },
  {
   "cell_type": "code",
   "execution_count": 14,
   "metadata": {},
   "outputs": [],
   "source": [
    "# Clean scientific name; remove non-alphanumeric characters and replace spaces with underscores\n",
    "import re\n",
    "def clean_name(name : str) -> str:\n",
    "    name_with_space = re.sub(r\"[^a-zA-Z0-9 ]\", \"\", name)\n",
    "    parts = name_with_space.split(\" \")\n",
    "    genus = parts[0]\n",
    "    if len(parts) == 1:\n",
    "        species = \"\"\n",
    "        author = \"\"\n",
    "    elif parts[1].islower():\n",
    "        species = parts[1]\n",
    "        author = \" \".join(parts[2:])\n",
    "    else:\n",
    "        species = \"\"\n",
    "        author = \" \".join(parts[1:])\n",
    "    return f\"{genus}-{species}-{author}\".replace(\" \", \"_\")\n",
    "\n",
    "clean_class_to_name = [{k : clean_name(v) for k, v in c2n.items()} for c2n in class_to_name]\n",
    "\n",
    "# Combine dicts to one\n",
    "combined = dict()\n",
    "for c2n in clean_class_to_name:\n",
    "    combined.update(c2n)\n",
    "\n",
    "with open(\"clean_class_to_name.json\", \"w\") as f:\n",
    "    json.dump(combined, f)"
   ]
  }
 ],
 "metadata": {
  "kernelspec": {
   "display_name": "Python 3",
   "language": "python",
   "name": "python3"
  },
  "language_info": {
   "codemirror_mode": {
    "name": "ipython",
    "version": 3
   },
   "file_extension": ".py",
   "mimetype": "text/x-python",
   "name": "python",
   "nbconvert_exporter": "python",
   "pygments_lexer": "ipython3",
   "version": "3.11.5"
  }
 },
 "nbformat": 4,
 "nbformat_minor": 2
}
